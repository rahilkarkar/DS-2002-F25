{
 "cells": [
  {
   "cell_type": "markdown",
   "id": "839e7f26-f9e5-4a6d-b967-8bb46edfdc1f",
   "metadata": {},
   "source": [
    "# Data Acquisition via API Calls (NewsAPI)"
   ]
  },
  {
   "cell_type": "markdown",
   "id": "0727af3f-4ad7-48dc-b815-618b279fe27e",
   "metadata": {},
   "source": [
    "---"
   ]
  },
  {
   "cell_type": "markdown",
   "id": "06ad6eae-a4a2-4229-8cc7-3e66c6003f73",
   "metadata": {},
   "source": [
    "## Phase 1: Setup and Security"
   ]
  },
  {
   "cell_type": "markdown",
   "id": "4b38d294-14bd-45b0-a556-cda81bc7334b",
   "metadata": {},
   "source": [
    "### Install Dependencies"
   ]
  },
  {
   "cell_type": "code",
   "execution_count": 1,
   "id": "434cfda4-9de8-4cc6-a23d-89da51b23f6d",
   "metadata": {},
   "outputs": [
    {
     "name": "stdout",
     "output_type": "stream",
     "text": [
      "Requirement already satisfied: python-dotenv in /usr/local/python/3.12.1/lib/python3.12/site-packages (1.1.1)\n",
      "\n",
      "\u001b[1m[\u001b[0m\u001b[34;49mnotice\u001b[0m\u001b[1;39;49m]\u001b[0m\u001b[39;49m A new release of pip is available: \u001b[0m\u001b[31;49m25.1.1\u001b[0m\u001b[39;49m -> \u001b[0m\u001b[32;49m25.2\u001b[0m\n",
      "\u001b[1m[\u001b[0m\u001b[34;49mnotice\u001b[0m\u001b[1;39;49m]\u001b[0m\u001b[39;49m To update, run: \u001b[0m\u001b[32;49mpython3 -m pip install --upgrade pip\u001b[0m\n",
      "Dependencies installed successfully.\n"
     ]
    }
   ],
   "source": [
    "# Install the necessary library for loading environment variables (like API keys)\n",
    "!pip install python-dotenv\n",
    "\n",
    "print(\"Dependencies installed successfully.\")"
   ]
  },
  {
   "cell_type": "markdown",
   "id": "2c1f2e3a-048f-4fe2-858c-75dc46293f49",
   "metadata": {},
   "source": [
    "### Import Modules\n",
    "Import all necessary Python libraries. Note that `requests` is the primary tool for submitting HTTP requests."
   ]
  },
  {
   "cell_type": "code",
   "execution_count": 2,
   "id": "04207cb4-b746-4365-82ca-09fcde405c76",
   "metadata": {},
   "outputs": [
    {
     "name": "stdout",
     "output_type": "stream",
     "text": [
      "Modules imported.\n"
     ]
    }
   ],
   "source": [
    "import numpy as np\n",
    "import pandas as pd\n",
    "import os\n",
    "import requests\n",
    "import json\n",
    "import dotenv\n",
    "from datetime import datetime\n",
    "\n",
    "print(\"Modules imported.\")"
   ]
  },
  {
   "cell_type": "markdown",
   "id": "bbcd31b8-25bf-4434-904c-5a2d7596f1c7",
   "metadata": {},
   "source": [
    "### Load Environment Variables\n",
    "This loads your `.env` file, which is crucial for securely handling your NewsAPI key without exposing it in the notebook."
   ]
  },
  {
   "cell_type": "code",
   "execution_count": 3,
   "id": "6ffaead9-f975-4669-91ea-8221892a28de",
   "metadata": {},
   "outputs": [
    {
     "name": "stdout",
     "output_type": "stream",
     "text": [
      "Environment variables loaded.\n"
     ]
    }
   ],
   "source": [
    "# Load the .env file to access environment variables (e.g., your API Key)\n",
    "dotenv.load_dotenv()\n",
    "\n",
    "print(\"Environment variables loaded.\")"
   ]
  },
  {
   "cell_type": "markdown",
   "id": "7071af15-2cb5-4ef1-98d6-04ff935dbd04",
   "metadata": {},
   "source": [
    "### Retrieve API Key\n",
    "We access the stored API key using os.getenv()."
   ]
  },
  {
   "cell_type": "code",
   "execution_count": 4,
   "id": "d99c4807-4efb-43a2-8236-a54339673626",
   "metadata": {},
   "outputs": [
    {
     "name": "stdout",
     "output_type": "stream",
     "text": [
      "News API key successfully retrieved.\n"
     ]
    }
   ],
   "source": [
    "# Get the News API key from the environment variables\n",
    "newskey = os.getenv('newskey')\n",
    "\n",
    "# We won't print the key, but we confirm it's loaded (e.g., by checking its length)\n",
    "if newskey:\n",
    "    print(\"News API key successfully retrieved.\")\n",
    "else:\n",
    "    print(\"ERROR: News API key not found. Check your .env file.\")"
   ]
  },
  {
   "cell_type": "markdown",
   "id": "2c2de509-7b66-49ff-8d14-b77ad7a60c14",
   "metadata": {},
   "source": [
    "---"
   ]
  },
  {
   "cell_type": "markdown",
   "id": "e71f2ee3-a1d5-4232-851e-4f934a6e2417",
   "metadata": {},
   "source": [
    "## Phase 2: Building the API Request Components\n",
    "An HTTP request requires four main components: URL root, endpoint, headers (for security/metadata), and parameters (the query)."
   ]
  },
  {
   "cell_type": "markdown",
   "id": "4e120544-61cb-46d2-b5a1-045d95df4a2f",
   "metadata": {},
   "source": [
    "### Build User Agent Header\n",
    "Many APIs require a User-agent to identify the client application. We use httpbin.org to dynamically grab a standard User-agent string."
   ]
  },
  {
   "cell_type": "code",
   "execution_count": 5,
   "id": "d399ea8a-2f04-46da-8fdd-09436ee2b51d",
   "metadata": {},
   "outputs": [
    {
     "name": "stdout",
     "output_type": "stream",
     "text": [
      "User-agent: python-requests/2.32.4\n",
      "Headers dictionary created, containing the API key.\n"
     ]
    }
   ],
   "source": [
    "# 1. Get a standard User-agent string\n",
    "r = requests.get('https://httpbin.org/user-agent')\n",
    "useragent = json.loads(r.text)['user-agent']\n",
    "\n",
    "# 2. Build the full headers dictionary\n",
    "# The API key is sent via the 'X-Api-Key' header, a common secure method.\n",
    "headers = {'User-agent': useragent,\n",
    "           'X-Api-Key': newskey}\n",
    "\n",
    "print(f\"User-agent: {useragent}\")\n",
    "print(\"Headers dictionary created, containing the API key.\")"
   ]
  },
  {
   "cell_type": "markdown",
   "id": "3058069f-4e41-414d-aac2-bfb8e506693e",
   "metadata": {},
   "source": [
    "### Define URL Root and Endpoint\n",
    "This defines the fixed address for the NewsAPI service we want to use."
   ]
  },
  {
   "cell_type": "code",
   "execution_count": 6,
   "id": "f690335c-d0f0-4d1d-91ae-8aac3e9a742c",
   "metadata": {},
   "outputs": [
    {
     "name": "stdout",
     "output_type": "stream",
     "text": [
      "API Base URL: https://newsapi.org/v2/everything\n"
     ]
    }
   ],
   "source": [
    "# Define the fixed URL parts\n",
    "root = 'https://newsapi.org'\n",
    "endpoint = '/v2/everything' # This endpoint searches all articles\n",
    "\n",
    "print(f\"API Base URL: {root + endpoint}\")"
   ]
  },
  {
   "cell_type": "markdown",
   "id": "4ab99c91-4fc4-451c-8986-0a8ee6856ebc",
   "metadata": {},
   "source": [
    "### Define Query Parameters\n",
    "Parameters are used to customize the search (e.g., topic, language, date)."
   ]
  },
  {
   "cell_type": "code",
   "execution_count": 7,
   "id": "14b6b582-fbda-4307-9150-7386f0a17e45",
   "metadata": {},
   "outputs": [
    {
     "name": "stdout",
     "output_type": "stream",
     "text": [
      "Query parameters defined:\n",
      "{'q': '\"tallest mountain\"', 'searchIn': 'content', 'language': 'en', 'pageSize': 100}\n"
     ]
    }
   ],
   "source": [
    "# Define the search parameters as a Python dictionary\n",
    "params = {'q': '\"tallest mountain\"',  # Topic to search for (using quotes for exact phrase)\n",
    "         'searchIn': 'content',      # Search within the article content\n",
    "         'language': 'en',           # Restrict to English articles\n",
    "         'pageSize': 100}            # Request up to 100 articles\n",
    "\n",
    "print(\"Query parameters defined:\")\n",
    "print(params)"
   ]
  },
  {
   "cell_type": "markdown",
   "id": "f9eaced6-2b38-40f9-9cae-66dd7294ea43",
   "metadata": {},
   "source": [
    "---"
   ]
  },
  {
   "cell_type": "markdown",
   "id": "e9c4b522-db1d-4987-bf70-19bb40be3b1e",
   "metadata": {},
   "source": [
    "## Phase 3: API Execution and Parsing"
   ]
  },
  {
   "cell_type": "markdown",
   "id": "78ca83bb-3417-473c-8ba6-18dbaee32bc7",
   "metadata": {},
   "source": [
    "### Submit the GET Request\n",
    "This cell sends the request and checks the response status. A `<Response [200]>` indicates success."
   ]
  },
  {
   "cell_type": "code",
   "execution_count": 8,
   "id": "9bd9fbca-d7b3-4a0e-a116-b25264f725c2",
   "metadata": {},
   "outputs": [
    {
     "name": "stdout",
     "output_type": "stream",
     "text": [
      "Request submitted. Status: <Response [200]>\n"
     ]
    }
   ],
   "source": [
    "# Combine the components and submit the GET request\n",
    "r = requests.get(root + endpoint,\n",
    "                headers = headers,\n",
    "                params = params)\n",
    "\n",
    "# Display the response object (it should show <Response [200]>)\n",
    "print(f\"Request submitted. Status: {r}\")"
   ]
  },
  {
   "cell_type": "markdown",
   "id": "3bafe96c-249e-4b75-98e5-a953a978b3ff",
   "metadata": {},
   "source": [
    "### Parse the JSON Response\n",
    "The response (`r.text`) is a single string containing the JSON data. We use `json.loads()` to convert this string into a usable Python dictionary."
   ]
  },
  {
   "cell_type": "code",
   "execution_count": 9,
   "id": "d7083f83-3758-40d2-afb7-ee9807e8e28e",
   "metadata": {},
   "outputs": [
    {
     "name": "stdout",
     "output_type": "stream",
     "text": [
      "JSON response converted to a Python dictionary (Type: <class 'dict'>)\n",
      "Top-level keys in the response:\n",
      "['status', 'totalResults', 'articles']\n"
     ]
    }
   ],
   "source": [
    "# Convert the JSON response string into a Python dictionary\n",
    "myjson = json.loads(r.text)\n",
    "\n",
    "print(f\"JSON response converted to a Python dictionary (Type: {type(myjson)})\")\n",
    "print(\"Top-level keys in the response:\")\n",
    "print(list(myjson.keys()))"
   ]
  },
  {
   "cell_type": "markdown",
   "id": "31cb5910-e2e1-4536-9bd9-5eb4b306456c",
   "metadata": {},
   "source": [
    "### View Raw JSON Data Structure (Optional)\n",
    "This cell is often left commented out to avoid printing a massive wall of text but serves as a way to inspect the data structure."
   ]
  },
  {
   "cell_type": "code",
   "execution_count": 10,
   "id": "c0c3b976-b308-4c0c-93d7-246994bb28df",
   "metadata": {},
   "outputs": [],
   "source": [
    "# Uncomment this line to inspect the full structure of the JSON dictionary\n",
    "# print(json.dumps(myjson, indent=4))"
   ]
  },
  {
   "cell_type": "markdown",
   "id": "206e27f2-14c4-4497-bf40-c29ef1148d34",
   "metadata": {},
   "source": [
    "### Normalize JSON to DataFrame\n",
    "The key data is nested under the articles key. Pandas’ json_normalize() function flattens this nested data into a clean, tabular DataFrame."
   ]
  },
  {
   "cell_type": "code",
   "execution_count": 11,
   "id": "d7024cc7-939a-476f-8467-5d3f6bd58988",
   "metadata": {},
   "outputs": [
    {
     "name": "stdout",
     "output_type": "stream",
     "text": [
      "DataFrame created with 16 articles.\n",
      "First 5 rows of the DataFrame:\n"
     ]
    },
    {
     "data": {
      "text/html": [
       "<div>\n",
       "<style scoped>\n",
       "    .dataframe tbody tr th:only-of-type {\n",
       "        vertical-align: middle;\n",
       "    }\n",
       "\n",
       "    .dataframe tbody tr th {\n",
       "        vertical-align: top;\n",
       "    }\n",
       "\n",
       "    .dataframe thead th {\n",
       "        text-align: right;\n",
       "    }\n",
       "</style>\n",
       "<table border=\"1\" class=\"dataframe\">\n",
       "  <thead>\n",
       "    <tr style=\"text-align: right;\">\n",
       "      <th></th>\n",
       "      <th>author</th>\n",
       "      <th>title</th>\n",
       "      <th>description</th>\n",
       "      <th>url</th>\n",
       "      <th>urlToImage</th>\n",
       "      <th>publishedAt</th>\n",
       "      <th>content</th>\n",
       "      <th>source.id</th>\n",
       "      <th>source.name</th>\n",
       "    </tr>\n",
       "  </thead>\n",
       "  <tbody>\n",
       "    <tr>\n",
       "      <th>0</th>\n",
       "      <td>Lydia Mansel</td>\n",
       "      <td>This Historic Train Climbs the Tallest Mountai...</td>\n",
       "      <td>Riding the Mount Washington Cog Railway is one...</td>\n",
       "      <td>https://www.travelandleisure.com/mount-washing...</td>\n",
       "      <td>https://s.yimg.com/ny/api/res/1.2/JmSXRiaGiWkv...</td>\n",
       "      <td>2025-09-20T16:00:00Z</td>\n",
       "      <td>Key Points\\r\\n&lt;ul&gt;&lt;li&gt;The Mount Washington Cog...</td>\n",
       "      <td>None</td>\n",
       "      <td>Travel+Leisure</td>\n",
       "    </tr>\n",
       "    <tr>\n",
       "      <th>1</th>\n",
       "      <td>TMZ Staff</td>\n",
       "      <td>Hundreds of Mt. Everest Climbers Stuck on Moun...</td>\n",
       "      <td>Nearly 1,000 climbers were trapped on Mt. Ever...</td>\n",
       "      <td>https://www.tmz.com/2025/10/05/hundreds-mt-eve...</td>\n",
       "      <td>https://imagez.tmz.com/image/6c/16by9/2025/10/...</td>\n",
       "      <td>2025-10-05T21:08:25Z</td>\n",
       "      <td>Nearly 1,000 climbers were trapped on Mt. Ever...</td>\n",
       "      <td>None</td>\n",
       "      <td>TMZ</td>\n",
       "    </tr>\n",
       "    <tr>\n",
       "      <th>2</th>\n",
       "      <td>Lyndal Rowlands</td>\n",
       "      <td>More than 350 trekkers escape blizzard-hit Eve...</td>\n",
       "      <td>Rescued trekkers reach China's Qudang township...</td>\n",
       "      <td>https://www.aljazeera.com/news/2025/10/6/more-...</td>\n",
       "      <td>https://www.aljazeera.com/wp-content/uploads/2...</td>\n",
       "      <td>2025-10-06T01:01:28Z</td>\n",
       "      <td>Rescuers have guided more than 350 people to s...</td>\n",
       "      <td>al-jazeera-english</td>\n",
       "      <td>Al Jazeera English</td>\n",
       "    </tr>\n",
       "    <tr>\n",
       "      <th>3</th>\n",
       "      <td>Express Web Desk</td>\n",
       "      <td>Polish skier becomes first to climb, ski down ...</td>\n",
       "      <td>In 2018, the Polish climber was the first pers...</td>\n",
       "      <td>https://indianexpress.com/article/world/polish...</td>\n",
       "      <td>https://images.indianexpress.com/2025/09/polan...</td>\n",
       "      <td>2025-09-28T04:50:59Z</td>\n",
       "      <td>Polish skier Andrzej Bargiel made history this...</td>\n",
       "      <td>None</td>\n",
       "      <td>The Indian Express</td>\n",
       "    </tr>\n",
       "    <tr>\n",
       "      <th>4</th>\n",
       "      <td>Georgie English</td>\n",
       "      <td>CLEAREST EVER SIGNS OF LIFE ON MARS...</td>\n",
       "      <td>NASA has revealed the clearest signs of life o...</td>\n",
       "      <td>https://www.the-sun.com/tech/15159152/nasa-mar...</td>\n",
       "      <td>https://www.the-sun.com/wp-content/uploads/sit...</td>\n",
       "      <td>2025-09-10T17:34:37Z</td>\n",
       "      <td>NASA has revealed the clearest signs of life o...</td>\n",
       "      <td>None</td>\n",
       "      <td>The-sun.com</td>\n",
       "    </tr>\n",
       "  </tbody>\n",
       "</table>\n",
       "</div>"
      ],
      "text/plain": [
       "             author                                              title  \\\n",
       "0      Lydia Mansel  This Historic Train Climbs the Tallest Mountai...   \n",
       "1         TMZ Staff  Hundreds of Mt. Everest Climbers Stuck on Moun...   \n",
       "2   Lyndal Rowlands  More than 350 trekkers escape blizzard-hit Eve...   \n",
       "3  Express Web Desk  Polish skier becomes first to climb, ski down ...   \n",
       "4   Georgie English             CLEAREST EVER SIGNS OF LIFE ON MARS...   \n",
       "\n",
       "                                         description  \\\n",
       "0  Riding the Mount Washington Cog Railway is one...   \n",
       "1  Nearly 1,000 climbers were trapped on Mt. Ever...   \n",
       "2  Rescued trekkers reach China's Qudang township...   \n",
       "3  In 2018, the Polish climber was the first pers...   \n",
       "4  NASA has revealed the clearest signs of life o...   \n",
       "\n",
       "                                                 url  \\\n",
       "0  https://www.travelandleisure.com/mount-washing...   \n",
       "1  https://www.tmz.com/2025/10/05/hundreds-mt-eve...   \n",
       "2  https://www.aljazeera.com/news/2025/10/6/more-...   \n",
       "3  https://indianexpress.com/article/world/polish...   \n",
       "4  https://www.the-sun.com/tech/15159152/nasa-mar...   \n",
       "\n",
       "                                          urlToImage           publishedAt  \\\n",
       "0  https://s.yimg.com/ny/api/res/1.2/JmSXRiaGiWkv...  2025-09-20T16:00:00Z   \n",
       "1  https://imagez.tmz.com/image/6c/16by9/2025/10/...  2025-10-05T21:08:25Z   \n",
       "2  https://www.aljazeera.com/wp-content/uploads/2...  2025-10-06T01:01:28Z   \n",
       "3  https://images.indianexpress.com/2025/09/polan...  2025-09-28T04:50:59Z   \n",
       "4  https://www.the-sun.com/wp-content/uploads/sit...  2025-09-10T17:34:37Z   \n",
       "\n",
       "                                             content           source.id  \\\n",
       "0  Key Points\\r\\n<ul><li>The Mount Washington Cog...                None   \n",
       "1  Nearly 1,000 climbers were trapped on Mt. Ever...                None   \n",
       "2  Rescuers have guided more than 350 people to s...  al-jazeera-english   \n",
       "3  Polish skier Andrzej Bargiel made history this...                None   \n",
       "4  NASA has revealed the clearest signs of life o...                None   \n",
       "\n",
       "          source.name  \n",
       "0      Travel+Leisure  \n",
       "1                 TMZ  \n",
       "2  Al Jazeera English  \n",
       "3  The Indian Express  \n",
       "4         The-sun.com  "
      ]
     },
     "metadata": {},
     "output_type": "display_data"
    }
   ],
   "source": [
    "# Use json_normalize to extract the list of article dictionaries ('articles')\n",
    "news_df = pd.json_normalize(myjson, record_path = ['articles'])\n",
    "\n",
    "print(f\"DataFrame created with {len(news_df)} articles.\")\n",
    "print(\"First 5 rows of the DataFrame:\")\n",
    "display(news_df.head())"
   ]
  },
  {
   "cell_type": "markdown",
   "id": "ad96d273-19eb-476d-95b7-4ca9bbfca0e4",
   "metadata": {
    "tags": []
   },
   "source": [
    "---"
   ]
  },
  {
   "cell_type": "markdown",
   "id": "a5a91699-449d-4ef0-bca3-91a032365440",
   "metadata": {},
   "source": [
    "## Phase 4: Data Analysis and Export"
   ]
  },
  {
   "cell_type": "markdown",
   "id": "1031212a-e2a1-47dc-953d-0c00d212e977",
   "metadata": {},
   "source": [
    "### Clean and Prepare for Export\n",
    "Perform a final step to ensure the data is properly formatted before saving."
   ]
  },
  {
   "cell_type": "code",
   "execution_count": 12,
   "id": "40e76dd9-f0fe-45c5-84ab-c283c4c9953b",
   "metadata": {},
   "outputs": [
    {
     "name": "stdout",
     "output_type": "stream",
     "text": [
      "DataFrame prepared for export.\n"
     ]
    }
   ],
   "source": [
    "# Clean up the publishedAt column (convert to datetime)\n",
    "news_df['publishedAt'] = pd.to_datetime(news_df['publishedAt'])\n",
    "\n",
    "# Select a final set of columns for the CSV\n",
    "final_df = news_df[['publishedAt', 'title', 'description', 'url', 'source.name', 'author']].copy()\n",
    "\n",
    "print(\"DataFrame prepared for export.\")"
   ]
  },
  {
   "cell_type": "markdown",
   "id": "9a5e4a19-f79c-4c35-ac08-0fa00a08d926",
   "metadata": {},
   "source": [
    "### Export to CSV\n",
    "This is the final Load (L) phase of the data acquisition process."
   ]
  },
  {
   "cell_type": "code",
   "execution_count": 13,
   "id": "a8b0fb79-089b-4870-ba9c-284ba6d57cd6",
   "metadata": {},
   "outputs": [
    {
     "name": "stdout",
     "output_type": "stream",
     "text": [
      "Successfully exported 16 articles to news_articles_20251007_221559.csv\n"
     ]
    }
   ],
   "source": [
    "# Define a filename based on the current date for organization\n",
    "timestamp = datetime.now().strftime(\"%Y%m%d_%H%M%S\")\n",
    "output_filename = f'news_articles_{timestamp}.csv'\n",
    "\n",
    "# Export the final clean DataFrame to a CSV file\n",
    "final_df.to_csv(output_filename, index=False)\n",
    "\n",
    "print(f\"Successfully exported {len(final_df)} articles to {output_filename}\")"
   ]
  },
  {
   "cell_type": "markdown",
   "id": "5df09ae6-f075-4505-8cd1-55ea1bb048d7",
   "metadata": {},
   "source": [
    "---"
   ]
  },
  {
   "cell_type": "markdown",
   "id": "22debddc-6f42-4e65-b312-f197937142b3",
   "metadata": {},
   "source": [
    "## Function Definition (Optional Consolidation)\n",
    "This final cell provides the consolidation of all steps into a single, reusable function—demonstrating how a script would execute the entire API call process."
   ]
  },
  {
   "cell_type": "code",
   "execution_count": 14,
   "id": "19593a69-02c0-4e82-9a56-56a5412b7773",
   "metadata": {},
   "outputs": [],
   "source": [
    "def grab_latest_articles():\n",
    "    \"\"\"\n",
    "    Consolidates all steps: builds request, calls API, parses JSON, and returns a DataFrame.\n",
    "    \"\"\"\n",
    "    \n",
    "    # Prompt the user\n",
    "    topic = input(\"Please enter your topic of interest: \")\n",
    "    \n",
    "    # Build our Headers\n",
    "    newskey = os.getenv('newskey')\n",
    "    r = requests.get('https://httpbin.org/user-agent')\n",
    "    useragent = json.loads(r.text)['user-agent']\n",
    "    headers = {'User-agent': useragent,\n",
    "               'X-Api-Key': newskey}\n",
    "\n",
    "    # Build our URL and Parameters\n",
    "    root = 'https://newsapi.org'\n",
    "    endpoint = '/v2/everything'\n",
    "    params = {'q': topic,\n",
    "              'searchIn': 'content',\n",
    "              'language': 'en',\n",
    "              'pageSize': 100}\n",
    "    \n",
    "    # Submit our Request\n",
    "    r = requests.get(root + endpoint,\n",
    "                headers = headers,\n",
    "                params = params)\n",
    "    \n",
    "    # Create and return the pandas dataframe\n",
    "    myjson = json.loads(r.text)\n",
    "    news_df = pd.json_normalize(myjson, record_path = ['articles'])\n",
    "    \n",
    "    return news_df"
   ]
  },
  {
   "cell_type": "code",
   "execution_count": 15,
   "id": "5c57470e-0554-443d-8563-e9eb94fa87c1",
   "metadata": {},
   "outputs": [
    {
     "data": {
      "text/html": [
       "<div>\n",
       "<style scoped>\n",
       "    .dataframe tbody tr th:only-of-type {\n",
       "        vertical-align: middle;\n",
       "    }\n",
       "\n",
       "    .dataframe tbody tr th {\n",
       "        vertical-align: top;\n",
       "    }\n",
       "\n",
       "    .dataframe thead th {\n",
       "        text-align: right;\n",
       "    }\n",
       "</style>\n",
       "<table border=\"1\" class=\"dataframe\">\n",
       "  <thead>\n",
       "    <tr style=\"text-align: right;\">\n",
       "      <th></th>\n",
       "      <th>author</th>\n",
       "      <th>title</th>\n",
       "      <th>description</th>\n",
       "      <th>url</th>\n",
       "      <th>urlToImage</th>\n",
       "      <th>publishedAt</th>\n",
       "      <th>content</th>\n",
       "      <th>source.id</th>\n",
       "      <th>source.name</th>\n",
       "    </tr>\n",
       "  </thead>\n",
       "  <tbody>\n",
       "    <tr>\n",
       "      <th>0</th>\n",
       "      <td>Jake Lahut</td>\n",
       "      <td>Melania Trump’s AI Era Is Upon Us</td>\n",
       "      <td>The ever elusive first lady has emerged with a...</td>\n",
       "      <td>https://www.wired.com/story/melania-trumps-ai-...</td>\n",
       "      <td>https://media.wired.com/photos/68bf2d04f603ec4...</td>\n",
       "      <td>2025-09-10T15:00:00Z</td>\n",
       "      <td>Its unclear how Melanias initiative will follo...</td>\n",
       "      <td>wired</td>\n",
       "      <td>Wired</td>\n",
       "    </tr>\n",
       "    <tr>\n",
       "      <th>1</th>\n",
       "      <td>Charles Pulliam-Moore</td>\n",
       "      <td>How generative AI boosters are trying to break...</td>\n",
       "      <td>This is The Stepback, a weekly newsletter brea...</td>\n",
       "      <td>https://www.theverge.com/column/785975/hollywo...</td>\n",
       "      <td>https://platform.theverge.com/wp-content/uploa...</td>\n",
       "      <td>2025-09-26T17:13:36Z</td>\n",
       "      <td>&lt;ul&gt;&lt;li&gt;&lt;/li&gt;&lt;li&gt;&lt;/li&gt;&lt;li&gt;&lt;/li&gt;&lt;/ul&gt;\\r\\nAI sta...</td>\n",
       "      <td>the-verge</td>\n",
       "      <td>The Verge</td>\n",
       "    </tr>\n",
       "    <tr>\n",
       "      <th>2</th>\n",
       "      <td>Andrew J. Hawkins</td>\n",
       "      <td>Robotaxis as public transit? Waymo thinks so</td>\n",
       "      <td>Waymo is teaming up with tech transit startup ...</td>\n",
       "      <td>https://www.theverge.com/news/780156/waymo-via...</td>\n",
       "      <td>https://platform.theverge.com/wp-content/uploa...</td>\n",
       "      <td>2025-09-17T18:16:29Z</td>\n",
       "      <td>&lt;ul&gt;&lt;li&gt;&lt;/li&gt;&lt;li&gt;&lt;/li&gt;&lt;li&gt;&lt;/li&gt;&lt;/ul&gt;\\r\\nThe co...</td>\n",
       "      <td>the-verge</td>\n",
       "      <td>The Verge</td>\n",
       "    </tr>\n",
       "    <tr>\n",
       "      <th>3</th>\n",
       "      <td>Ed Cara</td>\n",
       "      <td>Trump Shares Bizarre AI Video Promising Magic ...</td>\n",
       "      <td>In a since-deleted Truth Social post, an AI ve...</td>\n",
       "      <td>https://gizmodo.com/trump-shares-bizarre-ai-vi...</td>\n",
       "      <td>https://gizmodo.com/app/uploads/2025/09/Trumpt...</td>\n",
       "      <td>2025-09-29T16:10:59Z</td>\n",
       "      <td>President Donald Trump seems to have gone off ...</td>\n",
       "      <td>None</td>\n",
       "      <td>Gizmodo.com</td>\n",
       "    </tr>\n",
       "    <tr>\n",
       "      <th>4</th>\n",
       "      <td>Gizmodo Team</td>\n",
       "      <td>Welcome to Gizmodo’s New Look</td>\n",
       "      <td>Cleaner, faster, and easier to battle it out i...</td>\n",
       "      <td>https://gizmodo.com/welcome-to-gizmodos-new-lo...</td>\n",
       "      <td>https://gizmodo.com/app/uploads/2025/09/Img-Ne...</td>\n",
       "      <td>2025-09-25T13:44:02Z</td>\n",
       "      <td>Today were launching a better reading experien...</td>\n",
       "      <td>None</td>\n",
       "      <td>Gizmodo.com</td>\n",
       "    </tr>\n",
       "    <tr>\n",
       "      <th>...</th>\n",
       "      <td>...</td>\n",
       "      <td>...</td>\n",
       "      <td>...</td>\n",
       "      <td>...</td>\n",
       "      <td>...</td>\n",
       "      <td>...</td>\n",
       "      <td>...</td>\n",
       "      <td>...</td>\n",
       "      <td>...</td>\n",
       "    </tr>\n",
       "    <tr>\n",
       "      <th>95</th>\n",
       "      <td>msmash</td>\n",
       "      <td>After Years of Resistance, Apple Might Finally...</td>\n",
       "      <td>An anonymous reader shares a report: After yea...</td>\n",
       "      <td>https://apple.slashdot.org/story/25/09/17/1662...</td>\n",
       "      <td>https://a.fsdn.com/sd/topics/applelaptop_64.png</td>\n",
       "      <td>2025-09-17T16:06:00Z</td>\n",
       "      <td>After years of dismissing the idea of putting ...</td>\n",
       "      <td>None</td>\n",
       "      <td>Slashdot.org</td>\n",
       "    </tr>\n",
       "    <tr>\n",
       "      <th>96</th>\n",
       "      <td>msmash</td>\n",
       "      <td>Pakistan Spying On Millions Through Phone-Tapp...</td>\n",
       "      <td>Pakistan has built surveillance systems that i...</td>\n",
       "      <td>https://tech.slashdot.org/story/25/09/09/11325...</td>\n",
       "      <td>https://a.fsdn.com/sd/topics/communications_64...</td>\n",
       "      <td>2025-09-09T10:54:00Z</td>\n",
       "      <td>Pakistan has built surveillance systems that i...</td>\n",
       "      <td>None</td>\n",
       "      <td>Slashdot.org</td>\n",
       "    </tr>\n",
       "    <tr>\n",
       "      <th>97</th>\n",
       "      <td>Reuters</td>\n",
       "      <td>Australian watchdog says budget retailer Kmart...</td>\n",
       "      <td>The Office of the Australian Information Commi...</td>\n",
       "      <td>https://www.yahoo.com/news/articles/australian...</td>\n",
       "      <td>https://s.yimg.com/cv/apiv2/social/images/yaho...</td>\n",
       "      <td>2025-09-18T00:38:55Z</td>\n",
       "      <td>(Reuters) -An Australian regulator has found W...</td>\n",
       "      <td>None</td>\n",
       "      <td>Yahoo Entertainment</td>\n",
       "    </tr>\n",
       "    <tr>\n",
       "      <th>98</th>\n",
       "      <td>None</td>\n",
       "      <td>President Trump in UK for historic second stat...</td>\n",
       "      <td>The visit will see a crowded mix of royal page...</td>\n",
       "      <td>https://www.bbc.com/news/articles/cz9jyzl4532o</td>\n",
       "      <td>https://ichef.bbci.co.uk/news/1024/branded_new...</td>\n",
       "      <td>2025-09-16T22:01:23Z</td>\n",
       "      <td>Sean CoughlanRoyal correspondent\\r\\nFirst Lady...</td>\n",
       "      <td>None</td>\n",
       "      <td>BBC News</td>\n",
       "    </tr>\n",
       "    <tr>\n",
       "      <th>99</th>\n",
       "      <td>Juli Clover</td>\n",
       "      <td>iPhone Air and iPhone 17 Limited to USB 2</td>\n",
       "      <td>The new iPhone Air is limited to USB 2 transfe...</td>\n",
       "      <td>https://www.macrumors.com/2025/09/09/iphone-ai...</td>\n",
       "      <td>https://images.macrumors.com/t/2GmZRMbeiD3_nZt...</td>\n",
       "      <td>2025-09-09T21:06:41Z</td>\n",
       "      <td>The new iPhone Air is limited to USB 2 transfe...</td>\n",
       "      <td>None</td>\n",
       "      <td>MacRumors</td>\n",
       "    </tr>\n",
       "  </tbody>\n",
       "</table>\n",
       "<p>100 rows × 9 columns</p>\n",
       "</div>"
      ],
      "text/plain": [
       "                   author                                              title  \\\n",
       "0              Jake Lahut                  Melania Trump’s AI Era Is Upon Us   \n",
       "1   Charles Pulliam-Moore  How generative AI boosters are trying to break...   \n",
       "2       Andrew J. Hawkins       Robotaxis as public transit? Waymo thinks so   \n",
       "3                 Ed Cara  Trump Shares Bizarre AI Video Promising Magic ...   \n",
       "4            Gizmodo Team                      Welcome to Gizmodo’s New Look   \n",
       "..                    ...                                                ...   \n",
       "95                 msmash  After Years of Resistance, Apple Might Finally...   \n",
       "96                 msmash  Pakistan Spying On Millions Through Phone-Tapp...   \n",
       "97                Reuters  Australian watchdog says budget retailer Kmart...   \n",
       "98                   None  President Trump in UK for historic second stat...   \n",
       "99            Juli Clover          iPhone Air and iPhone 17 Limited to USB 2   \n",
       "\n",
       "                                          description  \\\n",
       "0   The ever elusive first lady has emerged with a...   \n",
       "1   This is The Stepback, a weekly newsletter brea...   \n",
       "2   Waymo is teaming up with tech transit startup ...   \n",
       "3   In a since-deleted Truth Social post, an AI ve...   \n",
       "4   Cleaner, faster, and easier to battle it out i...   \n",
       "..                                                ...   \n",
       "95  An anonymous reader shares a report: After yea...   \n",
       "96  Pakistan has built surveillance systems that i...   \n",
       "97  The Office of the Australian Information Commi...   \n",
       "98  The visit will see a crowded mix of royal page...   \n",
       "99  The new iPhone Air is limited to USB 2 transfe...   \n",
       "\n",
       "                                                  url  \\\n",
       "0   https://www.wired.com/story/melania-trumps-ai-...   \n",
       "1   https://www.theverge.com/column/785975/hollywo...   \n",
       "2   https://www.theverge.com/news/780156/waymo-via...   \n",
       "3   https://gizmodo.com/trump-shares-bizarre-ai-vi...   \n",
       "4   https://gizmodo.com/welcome-to-gizmodos-new-lo...   \n",
       "..                                                ...   \n",
       "95  https://apple.slashdot.org/story/25/09/17/1662...   \n",
       "96  https://tech.slashdot.org/story/25/09/09/11325...   \n",
       "97  https://www.yahoo.com/news/articles/australian...   \n",
       "98     https://www.bbc.com/news/articles/cz9jyzl4532o   \n",
       "99  https://www.macrumors.com/2025/09/09/iphone-ai...   \n",
       "\n",
       "                                           urlToImage           publishedAt  \\\n",
       "0   https://media.wired.com/photos/68bf2d04f603ec4...  2025-09-10T15:00:00Z   \n",
       "1   https://platform.theverge.com/wp-content/uploa...  2025-09-26T17:13:36Z   \n",
       "2   https://platform.theverge.com/wp-content/uploa...  2025-09-17T18:16:29Z   \n",
       "3   https://gizmodo.com/app/uploads/2025/09/Trumpt...  2025-09-29T16:10:59Z   \n",
       "4   https://gizmodo.com/app/uploads/2025/09/Img-Ne...  2025-09-25T13:44:02Z   \n",
       "..                                                ...                   ...   \n",
       "95    https://a.fsdn.com/sd/topics/applelaptop_64.png  2025-09-17T16:06:00Z   \n",
       "96  https://a.fsdn.com/sd/topics/communications_64...  2025-09-09T10:54:00Z   \n",
       "97  https://s.yimg.com/cv/apiv2/social/images/yaho...  2025-09-18T00:38:55Z   \n",
       "98  https://ichef.bbci.co.uk/news/1024/branded_new...  2025-09-16T22:01:23Z   \n",
       "99  https://images.macrumors.com/t/2GmZRMbeiD3_nZt...  2025-09-09T21:06:41Z   \n",
       "\n",
       "                                              content  source.id  \\\n",
       "0   Its unclear how Melanias initiative will follo...      wired   \n",
       "1   <ul><li></li><li></li><li></li></ul>\\r\\nAI sta...  the-verge   \n",
       "2   <ul><li></li><li></li><li></li></ul>\\r\\nThe co...  the-verge   \n",
       "3   President Donald Trump seems to have gone off ...       None   \n",
       "4   Today were launching a better reading experien...       None   \n",
       "..                                                ...        ...   \n",
       "95  After years of dismissing the idea of putting ...       None   \n",
       "96  Pakistan has built surveillance systems that i...       None   \n",
       "97  (Reuters) -An Australian regulator has found W...       None   \n",
       "98  Sean CoughlanRoyal correspondent\\r\\nFirst Lady...       None   \n",
       "99  The new iPhone Air is limited to USB 2 transfe...       None   \n",
       "\n",
       "            source.name  \n",
       "0                 Wired  \n",
       "1             The Verge  \n",
       "2             The Verge  \n",
       "3           Gizmodo.com  \n",
       "4           Gizmodo.com  \n",
       "..                  ...  \n",
       "95         Slashdot.org  \n",
       "96         Slashdot.org  \n",
       "97  Yahoo Entertainment  \n",
       "98             BBC News  \n",
       "99            MacRumors  \n",
       "\n",
       "[100 rows x 9 columns]"
      ]
     },
     "execution_count": 15,
     "metadata": {},
     "output_type": "execute_result"
    }
   ],
   "source": [
    "grab_latest_articles()"
   ]
  },
  {
   "cell_type": "code",
   "execution_count": null,
   "id": "2d688c4a-c4dd-4b0e-9409-bf5384a1a964",
   "metadata": {},
   "outputs": [],
   "source": []
  }
 ],
 "metadata": {
  "kernelspec": {
   "display_name": "Python 3",
   "language": "python",
   "name": "python3"
  },
  "language_info": {
   "codemirror_mode": {
    "name": "ipython",
    "version": 3
   },
   "file_extension": ".py",
   "mimetype": "text/x-python",
   "name": "python",
   "nbconvert_exporter": "python",
   "pygments_lexer": "ipython3",
   "version": "3.12.1"
  }
 },
 "nbformat": 4,
 "nbformat_minor": 5
}
